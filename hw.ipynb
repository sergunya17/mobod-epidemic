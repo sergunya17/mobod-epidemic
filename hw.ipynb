{
 "cells": [
  {
   "cell_type": "markdown",
   "metadata": {},
   "source": [
    "## Домашнее задание\n",
    "\n",
    "Дедлайн 27.12.2021 23:59\n",
    "\n",
    "### Наумов Сергей Олегович\n",
    "#### М05-013\n"
   ]
  },
  {
   "cell_type": "code",
   "execution_count": 1,
   "metadata": {
    "scrolled": true
   },
   "outputs": [
    {
     "name": "stdout",
     "output_type": "stream",
     "text": [
      "\u001b[33mDEPRECATION: Python 3.4 support has been deprecated. pip 19.1 will be the last one supporting it. Please upgrade your Python as Python 3.4 won't be maintained after March 2019 (cf PEP 429).\u001b[0m\r\n"
     ]
    }
   ],
   "source": [
    "!pip install --user -Uq catboost"
   ]
  },
  {
   "cell_type": "code",
   "execution_count": 2,
   "metadata": {
    "collapsed": true
   },
   "outputs": [],
   "source": [
    "sc.addPyFile('/opt/graphframes/graphframes-0.8.0-spark2.4-s_2.11.jar')"
   ]
  },
  {
   "cell_type": "code",
   "execution_count": 3,
   "metadata": {},
   "outputs": [],
   "source": [
    "# Используемые библиотеки\n",
    "from collections import defaultdict\n",
    "from tqdm import tqdm\n",
    "from time import time\n",
    "import networkx as nx\n",
    "import numpy as np\n",
    "import matplotlib.pyplot as plt\n",
    "from IPython.display import clear_output\n",
    "from graphframes import GraphFrame\n",
    "from pyspark.sql import functions as F\n",
    "from pyspark.sql.types import (\n",
    "    ArrayType,\n",
    "    IntegerType,\n",
    "    StructField,\n",
    "    StructType,\n",
    ")\n",
    "import seirsplus\n",
    "from seirsplus.models import *\n",
    "from copy import deepcopy\n",
    "from catboost import CatBoostClassifier\n",
    "from sklearn.model_selection import train_test_split\n",
    "from sklearn.metrics import roc_auc_score, precision_score, recall_score, mean_squared_error\n",
    "\n",
    "import warnings\n",
    "warnings.filterwarnings(\"ignore\")\n",
    "\n",
    "%matplotlib inline"
   ]
  },
  {
   "cell_type": "code",
   "execution_count": 4,
   "metadata": {
    "collapsed": true
   },
   "outputs": [],
   "source": [
    "RANDOM_SEED = hash('Naumov') // int(1e13)"
   ]
  },
  {
   "cell_type": "markdown",
   "metadata": {},
   "source": [
    "**Внимание!** Пожалуйста, в каждой ячейке пишите `%%time` "
   ]
  },
  {
   "cell_type": "markdown",
   "metadata": {},
   "source": [
    "---\n",
    "\n",
    "### №1: Написать реализацию модели SIRS при помощи\n",
    "\n",
    "1. Хранения состояний в оперативной памяти (10%)\n",
    "2. Перезаписи состояний в hdfs (15%)\n",
    "\n",
    "Построить график времени работы алгоритма от размера графа. (7%)\n",
    "\n",
    "NOTE: Рекомендуется брать графы размеров от 100 до 5000\n",
    "\n",
    "NOTE: генерировать графы так, как мы делали на семинаре. В качестве seed взять hash('Second_name') // int(1e13)."
   ]
  },
  {
   "cell_type": "markdown",
   "metadata": {},
   "source": [
    "#### 1.1 Реализация с хранением состояния в оперативной памяти"
   ]
  },
  {
   "cell_type": "code",
   "execution_count": 4,
   "metadata": {},
   "outputs": [
    {
     "name": "stdout",
     "output_type": "stream",
     "text": [
      "CPU times: user 96 ms, sys: 0 ns, total: 96 ms\n",
      "Wall time: 91.7 ms\n"
     ]
    }
   ],
   "source": [
    "%%time\n",
    "\n",
    "N = 1000\n",
    "G = nx.gaussian_random_partition_graph(n=N,                # Число вершин в графе\n",
    "                                       s=5,                # Средний размер кластеров\n",
    "                                       v=2,                # Параметр, отвечающий за дисперсию среднего размера кластера\n",
    "                                       p_in=0.05,          # Вероятность ребра в кластере\n",
    "                                       p_out=0.01,         # Вероятность ребра между кластерами\n",
    "                                       directed=False,     # Ориентированный ли граф\n",
    "                                       seed=RANDOM_SEED)"
   ]
  },
  {
   "cell_type": "code",
   "execution_count": 5,
   "metadata": {
    "collapsed": true
   },
   "outputs": [],
   "source": [
    "# Зададим параметры эпидемии\n",
    "\n",
    "beta = 0.1   # Вероятность заразиться при контакте с больным\n",
    "mu   = 0.2   # Вероятность выздороветь и приобрести иммунитет\n",
    "eta  = 0.05  # Вероятность утратить иммунитет"
   ]
  },
  {
   "cell_type": "code",
   "execution_count": 6,
   "metadata": {
    "collapsed": true
   },
   "outputs": [],
   "source": [
    "def graph_SIRS_simulation(G, beta, mu, eta, days = 1, n_ills = 1):\n",
    "    if isinstance(n_ills, int):\n",
    "        n_ills = np.random.randint(0, high=len(G.nodes), size=n_ills)\n",
    "    elif isinstance(n_ills, list):\n",
    "        pass\n",
    "    else:\n",
    "        raise ValueError(\"Unexpected n_ills parameter.\")\n",
    "    \n",
    "    ver_status = np.array([1 if i in n_ills else 0 for i in range(len(G.nodes))])\n",
    "    n_ill_history = [(ver_status == 1).sum()]\n",
    "    n_rec_history = [(ver_status == 2).sum()]\n",
    "        \n",
    "    for day in range(days):\n",
    "        curr_ills = np.where(ver_status == 1)[0]\n",
    "        curr_recs = np.where(ver_status == 2)[0]\n",
    "        \n",
    "        for ill in curr_ills:\n",
    "            for neigh in G.neighbors(ill):\n",
    "                if ver_status[neigh] == 0:\n",
    "                    ver_status[neigh] = np.random.binomial(1, beta)\n",
    "            ver_status[ill] = 1 + np.random.binomial(1, mu)\n",
    "        \n",
    "        for rec in curr_recs:\n",
    "            ver_status[rec] = (2 + np.random.binomial(1, eta)) % 3\n",
    "        \n",
    "\n",
    "        n_ill_history.append((ver_status == 1).sum())\n",
    "        n_rec_history.append((ver_status == 2).sum())\n",
    "        \n",
    "    return n_ill_history, n_rec_history"
   ]
  },
  {
   "cell_type": "code",
   "execution_count": 7,
   "metadata": {},
   "outputs": [
    {
     "name": "stdout",
     "output_type": "stream",
     "text": [
      "CPU times: user 80 ms, sys: 0 ns, total: 80 ms\n",
      "Wall time: 78 ms\n"
     ]
    }
   ],
   "source": [
    "%%time\n",
    "\n",
    "ill_graph, rec_graph = graph_SIRS_simulation(G, beta, mu, eta, days = 40, n_ills = 20)\n",
    "sus_graph = np.array([N]*len(ill_graph)) - ill_graph - rec_graph"
   ]
  },
  {
   "cell_type": "code",
   "execution_count": 8,
   "metadata": {},
   "outputs": [
    {
     "name": "stdout",
     "output_type": "stream",
     "text": [
      "CPU times: user 36 ms, sys: 0 ns, total: 36 ms\n",
      "Wall time: 32.8 ms\n"
     ]
    },
    {
     "data": {
      "image/png": "[encoded data removed]",
      "text/plain": [
       "<matplotlib.figure.Figure at 0x7fae386d42e8>"
      ]
     },
     "metadata": {},
     "output_type": "display_data"
    }
   ],
   "source": [
    "%%time\n",
    "\n",
    "plt.plot([i+1 for i, _ in enumerate(ill_graph)], ill_graph, label='Больные')\n",
    "plt.plot([i+1 for i, _ in enumerate(rec_graph)], rec_graph, label='Здоровые с иммунитетом')\n",
    "plt.plot([i+1 for i, _ in enumerate(sus_graph)], sus_graph, label='Здоровые без иммунитета')\n",
    "plt.xlabel('День')\n",
    "plt.ylabel('Количество')\n",
    "plt.legend()\n",
    "plt.grid()"
   ]
  },
  {
   "cell_type": "markdown",
   "metadata": {},
   "source": [
    "#### 1.2 Реализация с хранением состояния в hdfs"
   ]
  },
  {
   "cell_type": "code",
   "execution_count": 4,
   "metadata": {},
   "outputs": [
    {
     "name": "stdout",
     "output_type": "stream",
     "text": [
      "CPU times: user 96 ms, sys: 4 ms, total: 100 ms\n",
      "Wall time: 103 ms\n"
     ]
    }
   ],
   "source": [
    "%%time\n",
    "\n",
    "N = 1000\n",
    "G = nx.gaussian_random_partition_graph(n=N,                 # Число вершин в графе\n",
    "                                       s=6,                 # Средний размер кластеров\n",
    "                                       v=4,                 # Параметр, отвечающий за дисперсию среднего размера кластера\n",
    "                                       p_in=0.05,           # Вероятность ребра в кластере\n",
    "                                       p_out=0.02,          # Вероятность ребра между кластерами\n",
    "                                       directed=False,      # Ориентированный ли граф\n",
    "                                       seed=RANDOM_SEED)"
   ]
  },
  {
   "cell_type": "code",
   "execution_count": 5,
   "metadata": {
    "collapsed": true
   },
   "outputs": [],
   "source": [
    "I = 20\n",
    "ill_arr = np.random.randint(0, len(G.nodes()), I)"
   ]
  },
  {
   "cell_type": "code",
   "execution_count": 6,
   "metadata": {},
   "outputs": [
    {
     "name": "stdout",
     "output_type": "stream",
     "text": [
      "CPU times: user 572 ms, sys: 12 ms, total: 584 ms\n",
      "Wall time: 1.89 s\n"
     ]
    }
   ],
   "source": [
    "%%time\n",
    "\n",
    "v = sqlContext.createDataFrame([(i, 1 if i in ill_arr else 0) for i in range(len(G.nodes()))], ['id', 'status'])\n",
    "e = sqlContext.createDataFrame([(src, dst, 1) for src, dst in list(G.edges())], [\"src\",\"dst\",\"relationship\"])\n",
    " \n",
    "g = GraphFrame(v,e)"
   ]
  },
  {
   "cell_type": "code",
   "execution_count": 7,
   "metadata": {},
   "outputs": [
    {
     "name": "stdout",
     "output_type": "stream",
     "text": [
      "CPU times: user 4 ms, sys: 0 ns, total: 4 ms\n",
      "Wall time: 4.45 s\n"
     ]
    }
   ],
   "source": [
    "%%time\n",
    "\n",
    "g.vertices.write.mode(\"overwrite\").parquet(\"/user/mob2021045/task1_2/vertices\")\n",
    "g.edges.write.mode(\"overwrite\").parquet(\"/user/mob2021045/task1_2/edges\")"
   ]
  },
  {
   "cell_type": "code",
   "execution_count": 8,
   "metadata": {},
   "outputs": [
    {
     "name": "stdout",
     "output_type": "stream",
     "text": [
      "CPU times: user 12 ms, sys: 0 ns, total: 12 ms\n",
      "Wall time: 436 ms\n"
     ]
    }
   ],
   "source": [
    "%%time\n",
    "\n",
    "V = sqlContext.read.parquet(\"/user/mob2021045/task1_2/vertices\")\n",
    "E = sqlContext.read.parquet(\"/user/mob2021045/task1_2/edges\")\n",
    "\n",
    "G = GraphFrame(V, E)"
   ]
  },
  {
   "cell_type": "code",
   "execution_count": 9,
   "metadata": {
    "collapsed": true
   },
   "outputs": [],
   "source": [
    "def graph_SIRS_simulation_spark(G, V, E, beta, mu, eta, days = 1):\n",
    "    n_ill_history, n_rec_history = [], []\n",
    "    neighbors = G.find(\"(a)-[]->(b)\")\n",
    "    \n",
    "    for day in range(days):\n",
    "        vertixes_status = V.toPandas().sort_values('id').status.values.astype(np.uint8)\n",
    "        ill_vertix = np.where(vertixes_status == 1)[0]\n",
    "        rec_vertix = np.where(vertixes_status == 2)[0]\n",
    "        \n",
    "        for j, ill_ver in enumerate(ill_vertix):\n",
    "            clear_output(wait=True)\n",
    "            print('| Day: {}/{} | Diseased vertex: {}/{} |'.format(day+1, days, j+1, len(ill_vertix)))\n",
    "            \n",
    "            df = neighbors.filter('a.id == ' + str(ill_ver)).select('b').toPandas()\n",
    "            neigh = [row.b.id for row in df.itertuples()]\n",
    "            \n",
    "            vertixes_status[neigh] += np.random.binomial(1, beta, len(neigh)).astype(np.uint8)\n",
    "            vertixes_status = np.clip(vertixes_status, 0, 1)\n",
    "            \n",
    "        vertixes_status[ill_vertix] = 1 + np.random.binomial(1, mu, len(ill_vertix)).astype(np.uint8)\n",
    "        vertixes_status[rec_vertix] = (2 + np.random.binomial(1, eta, len(rec_vertix)).astype(np.uint8)) % 3\n",
    "        \n",
    "        n_ill_history.append((vertixes_status == 1).sum())\n",
    "        n_rec_history.append((vertixes_status == 2).sum())\n",
    "        \n",
    "        new_v = sqlContext.createDataFrame(\n",
    "            [(i, int(status)) for i, status in enumerate(vertixes_status)], \n",
    "            ['id', 'status']\n",
    "        )\n",
    "        new_v.write.mode(\"overwrite\").parquet(\"/user/mob2021045/task1_2/vertices\")\n",
    "        \n",
    "        V = sqlContext.read.parquet(\"/user/mob2021045/task1_2/vertices\").cache()\n",
    "        G = GraphFrame(V, E)\n",
    "\n",
    "    return n_ill_history, n_rec_history"
   ]
  },
  {
   "cell_type": "code",
   "execution_count": 10,
   "metadata": {
    "collapsed": true
   },
   "outputs": [],
   "source": [
    "# Зададим параметры эпидемии\n",
    "\n",
    "beta = 0.1   # Вероятность заразиться при контакте с больным\n",
    "mu   = 0.2   # Вероятность выздороветь и приобрести иммунитет\n",
    "eta  = 0.05  # Вероятность утратить иммунитет"
   ]
  },
  {
   "cell_type": "code",
   "execution_count": 11,
   "metadata": {
    "scrolled": false
   },
   "outputs": [
    {
     "name": "stdout",
     "output_type": "stream",
     "text": [
      "| Day: 5/5 | Diseased vertex: 543/543 |\n",
      "CPU times: user 6.87 s, sys: 972 ms, total: 7.84 s\n",
      "Wall time: 3min 9s\n"
     ]
    }
   ],
   "source": [
    "%%time\n",
    "\n",
    "ill_graph, rec_graph = graph_SIRS_simulation_spark(G, V, E, beta, mu, eta, days = 5)\n",
    "sus_graph = np.array([N]*len(ill_graph)) - ill_graph - rec_graph"
   ]
  },
  {
   "cell_type": "code",
   "execution_count": 12,
   "metadata": {},
   "outputs": [
    {
     "name": "stdout",
     "output_type": "stream",
     "text": [
      "CPU times: user 32 ms, sys: 4 ms, total: 36 ms\n",
      "Wall time: 33.8 ms\n"
     ]
    },
    {
     "data": {
      "image/png": "[encoded data removed]",
      "text/plain": [
       "<matplotlib.figure.Figure at 0x7f16b8ebdb70>"
      ]
     },
     "metadata": {},
     "output_type": "display_data"
    }
   ],
   "source": [
    "%%time\n",
    "\n",
    "plt.plot([i+1 for i, _ in enumerate(ill_graph)], ill_graph, label='Больные')\n",
    "plt.plot([i+1 for i, _ in enumerate(rec_graph)], rec_graph, label='Здоровые с иммунитетом')\n",
    "plt.plot([i+1 for i, _ in enumerate(sus_graph)], sus_graph, label='Здоровые без иммунитета')\n",
    "plt.xlabel('День')\n",
    "plt.ylabel('Количество')\n",
    "plt.legend()\n",
    "plt.grid()"
   ]
  },
  {
   "cell_type": "markdown",
   "metadata": {},
   "source": [
    "#### 1.3 Зависимость времени работы алгоритма от размера графа "
   ]
  },
  {
   "cell_type": "code",
   "execution_count": 8,
   "metadata": {
    "collapsed": true
   },
   "outputs": [],
   "source": [
    "graph_sizes = [100, 300, 500, 700, 1000, 1500, 2500, 3500, 5000]\n",
    "beta = 0.05  # Вероятность заразиться при контакте с больным\n",
    "mu   = 0.2   # Вероятность выздороветь и приобрести иммунитет\n",
    "eta  = 0.01  # Вероятность утратить иммунитет"
   ]
  },
  {
   "cell_type": "code",
   "execution_count": 9,
   "metadata": {},
   "outputs": [
    {
     "name": "stdout",
     "output_type": "stream",
     "text": [
      "| Day: 5/5 | Diseased vertex: 3678/3678 |\n",
      "CPU times: user 3min 5s, sys: 24.4 s, total: 3min 30s\n",
      "Wall time: 1h 1min 36s\n"
     ]
    }
   ],
   "source": [
    "%%time\n",
    "\n",
    "time_results = []\n",
    "for graph_size in graph_sizes:\n",
    "    G = nx.gaussian_random_partition_graph(n=graph_size,        # Число вершин в графе\n",
    "                                           s=6,                 # Средний размер кластеров\n",
    "                                           v=4,                 # Параметр, отвечающий за дисперсию среднего размера кластера\n",
    "                                           p_in=0.05,           # Вероятность ребра в кластере\n",
    "                                           p_out=0.02,          # Вероятность ребра между кластерами\n",
    "                                           directed=False,      # Ориентированный ли граф\n",
    "                                           seed=RANDOM_SEED)\n",
    "    I = 20\n",
    "    ill_arr = np.random.randint(0, len(G.nodes()), I)\n",
    "    \n",
    "    v = sqlContext.createDataFrame([(i, 1 if i in ill_arr else 0) for i in range(len(G.nodes()))], ['id', 'status'])\n",
    "    e = sqlContext.createDataFrame([(src, dst, 1) for src, dst in list(G.edges())], [\"src\",\"dst\",\"relationship\"])\n",
    "    g = GraphFrame(v,e)\n",
    "    \n",
    "    g.vertices.write.mode(\"overwrite\").parquet(\"/user/mob2021045/task1_2/vertices\")\n",
    "    g.edges.write.mode(\"overwrite\").parquet(\"/user/mob2021045/task1_2/edges\")\n",
    "    \n",
    "    V = sqlContext.read.parquet(\"/user/mob2021045/task1_2/vertices\")\n",
    "    E = sqlContext.read.parquet(\"/user/mob2021045/task1_2/edges\")\n",
    "    G = GraphFrame(V, E)\n",
    "    \n",
    "    beta = 0.1   # Вероятность заразиться при контакте с больным\n",
    "    mu   = 0.2   # Вероятность выздороветь и приобрести иммунитет\n",
    "    eta  = 0.05  # Вероятность утратить иммунитет\n",
    "    \n",
    "    start = time()\n",
    "    ill_graph, rec_graph = graph_SIRS_simulation_spark(G, V, E, beta, mu, eta, days = 5)\n",
    "    end = time()\n",
    "    time_results.append(end - start)"
   ]
  },
  {
   "cell_type": "code",
   "execution_count": 10,
   "metadata": {},
   "outputs": [
    {
     "name": "stdout",
     "output_type": "stream",
     "text": [
      "CPU times: user 28 ms, sys: 0 ns, total: 28 ms\n",
      "Wall time: 27.6 ms\n"
     ]
    },
    {
     "data": {
      "image/png": "[encoded data removed]",
      "text/plain": [
       "<matplotlib.figure.Figure at 0x7f9db6d2a198>"
      ]
     },
     "metadata": {},
     "output_type": "display_data"
    }
   ],
   "source": [
    "%%time\n",
    "\n",
    "plt.plot(graph_sizes, time_results)\n",
    "plt.xlabel('Число вершин в графе')\n",
    "plt.ylabel('Время работы в секундах')\n",
    "plt.grid()"
   ]
  },
  {
   "cell_type": "markdown",
   "metadata": {},
   "source": [
    "---\n",
    "\n",
    "### №2: Провести анализ способов ускорения алгоритма.\n",
    "\n",
    "К сожалению pyspark не поддерживает формат GraphX, у которого есть полезные функции, такие как посчитать всех соседей для каждой вершины, поэтому в данном задании вам предлагается найти способ обойти это ограничение.\n",
    "\n",
    "1. Посчитайте заранее всех соседей для всех вершин и сохраните в hdfs (просьба не генерировать слишком плотные графы, чтобы не засорять память кластера). После этого каждый раз когда будете искать соседей используйте функции спарка, чтобы получить их из вашего DataFrame. Посчитайте зависимость времени подсчет всех соседей и сохранения в систему в зависиости от размера графа (условия на размер и его генерацию возьмите из прошлого пункта)  и сравните скорость работы с алгоритмами из первого задания\n",
    "\n",
    "2. Предложите более сильное ускорение алгоритма без хранения всех данных о графе в оперативной памяти. \n",
    "\n",
    "P.S. оценка за этот пункт будет зависить от элегантности и скорости предложенного методы. Может лежать в диапазоне от 0 до 15%."
   ]
  },
  {
   "cell_type": "markdown",
   "metadata": {},
   "source": [
    "#### 2.1 Заранее посчитанные соседи"
   ]
  },
  {
   "cell_type": "code",
   "execution_count": 4,
   "metadata": {
    "collapsed": true
   },
   "outputs": [],
   "source": [
    "def batch(iterable, n=1):\n",
    "    l = len(iterable)\n",
    "    for ndx in range(0, l, n):\n",
    "        yield iterable[ndx:min(ndx + n, l)]"
   ]
  },
  {
   "cell_type": "code",
   "execution_count": 5,
   "metadata": {
    "collapsed": true
   },
   "outputs": [],
   "source": [
    "def save_neighbors_to_spark(G, batch_size = 30):\n",
    "\n",
    "    schema = StructType([\n",
    "        StructField('id', IntegerType()),\n",
    "        StructField('neighbors', ArrayType(IntegerType()))\n",
    "    ])\n",
    "    n = sqlContext.createDataFrame([], schema)\n",
    "    n.write.mode(\"overwrite\").parquet(\"/user/mob2021045/task2_1/neighbors\")\n",
    "\n",
    "    for batch_nodes in batch(list(G.nodes()), batch_size):\n",
    "        n = sqlContext.createDataFrame(\n",
    "            [(node, list(G.neighbors(node))) for node in batch_nodes],\n",
    "            ['id', 'neighbors'],\n",
    "        )\n",
    "        n.write.mode(\"append\").parquet(\"/user/mob2021045/task2_1/neighbors\")\n",
    "\n",
    "    n = sqlContext.read.parquet(\"/user/mob2021045/task2_1/neighbors\")\n",
    "    return n"
   ]
  },
  {
   "cell_type": "code",
   "execution_count": 6,
   "metadata": {
    "collapsed": true
   },
   "outputs": [],
   "source": [
    "def graph_SIRS_simulation_spark_saved_neighbors(G, V, E, N, beta, mu, eta, days = 1):\n",
    "    n_ill_history, n_rec_history = [], []\n",
    "    \n",
    "    for day in range(days):\n",
    "        vertixes_status = V.toPandas().sort_values('id').status.values.astype(np.uint8)\n",
    "        ill_vertix = np.where(vertixes_status == 1)[0]\n",
    "        rec_vertix = np.where(vertixes_status == 2)[0]\n",
    "        \n",
    "        for j, ill_ver in enumerate(ill_vertix):\n",
    "            clear_output(wait=True)\n",
    "            print('| Day: {}/{} | Diseased vertex: {}/{} |'.format(day+1, days, j+1, len(ill_vertix)))\n",
    "            \n",
    "            df = N.filter('id == ' + str(ill_ver)).select('neighbors').toPandas()\n",
    "            neigh = df.iloc[0, 0]\n",
    "            \n",
    "            vertixes_status[neigh] += np.random.binomial(1, beta, len(neigh)).astype(np.uint8)\n",
    "            vertixes_status = np.clip(vertixes_status, 0, 1)\n",
    "            \n",
    "        vertixes_status[ill_vertix] = 1 + np.random.binomial(1, mu, len(ill_vertix)).astype(np.uint8)\n",
    "        vertixes_status[rec_vertix] = (2 + np.random.binomial(1, eta, len(rec_vertix)).astype(np.uint8)) % 3\n",
    "        \n",
    "        n_ill_history.append((vertixes_status == 1).sum())\n",
    "        n_rec_history.append((vertixes_status == 2).sum())\n",
    "        \n",
    "        new_v = sqlContext.createDataFrame(\n",
    "            [(i, int(status)) for i, status in enumerate(vertixes_status)], \n",
    "            ['id', 'status']\n",
    "        )\n",
    "        new_v.write.mode(\"overwrite\").parquet(\"/user/mob2021045/task2_1/vertices\")\n",
    "        \n",
    "        V = sqlContext.read.parquet(\"/user/mob2021045/task2_1/vertices\").cache()\n",
    "        G = GraphFrame(V, E)\n",
    "\n",
    "    return n_ill_history, n_rec_history"
   ]
  },
  {
   "cell_type": "code",
   "execution_count": 7,
   "metadata": {
    "collapsed": true
   },
   "outputs": [],
   "source": [
    "graph_sizes = [100, 300, 500, 700, 1000]\n",
    "beta = 0.05  # Вероятность заразиться при контакте с больным\n",
    "mu   = 0.2   # Вероятность выздороветь и приобрести иммунитет\n",
    "eta  = 0.01  # Вероятность утратить иммунитет"
   ]
  },
  {
   "cell_type": "code",
   "execution_count": 8,
   "metadata": {},
   "outputs": [
    {
     "name": "stdout",
     "output_type": "stream",
     "text": [
      "| Day: 5/5 | Diseased vertex: 145/145 |\n",
      "CPU times: user 6.79 s, sys: 808 ms, total: 7.6 s\n",
      "Wall time: 2min 49s\n"
     ]
    }
   ],
   "source": [
    "%%time\n",
    "\n",
    "time_results = []\n",
    "for graph_size in graph_sizes:\n",
    "    G = nx.gaussian_random_partition_graph(n=graph_size,        # Число вершин в графе\n",
    "                                           s=6,                 # Средний размер кластеров\n",
    "                                           v=4,                 # Параметр, отвечающий за дисперсию среднего размера кластера\n",
    "                                           p_in=0.05,           # Вероятность ребра в кластере\n",
    "                                           p_out=0.02,          # Вероятность ребра между кластерами\n",
    "                                           directed=False,      # Ориентированный ли граф\n",
    "                                           seed=RANDOM_SEED)\n",
    "    I = 20\n",
    "    ill_arr = np.random.randint(0, len(G.nodes()), I)\n",
    "    \n",
    "    v = sqlContext.createDataFrame([(i, 1 if i in ill_arr else 0) for i in range(len(G.nodes()))], ['id', 'status'])\n",
    "    e = sqlContext.createDataFrame([(src, dst, 1) for src, dst in list(G.edges())], [\"src\",\"dst\",\"relationship\"])\n",
    "    g = GraphFrame(v,e)\n",
    "    \n",
    "    g.vertices.write.mode(\"overwrite\").parquet(\"/user/mob2021045/task2_1/vertices\")\n",
    "    g.edges.write.mode(\"overwrite\").parquet(\"/user/mob2021045/task2_1/edges\")\n",
    "    \n",
    "    V = sqlContext.read.parquet(\"/user/mob2021045/task2_1/vertices\")\n",
    "    E = sqlContext.read.parquet(\"/user/mob2021045/task2_1/edges\")\n",
    "    G_hdfs = GraphFrame(V, E)\n",
    "    \n",
    "    start = time()\n",
    "    N = save_neighbors_to_spark(G)\n",
    "    ill_graph, rec_graph = graph_SIRS_simulation_spark_saved_neighbors(G_hdfs, V, E, N, beta, mu, eta, days = 5)\n",
    "    end = time()\n",
    "    time_results.append(end - start)"
   ]
  },
  {
   "cell_type": "code",
   "execution_count": 9,
   "metadata": {},
   "outputs": [
    {
     "name": "stdout",
     "output_type": "stream",
     "text": [
      "CPU times: user 28 ms, sys: 4 ms, total: 32 ms\n",
      "Wall time: 33.5 ms\n"
     ]
    },
    {
     "data": {
      "image/png": "[encoded data removed]",
      "text/plain": [
       "<matplotlib.figure.Figure at 0x7f04f930de80>"
      ]
     },
     "metadata": {},
     "output_type": "display_data"
    }
   ],
   "source": [
    "%%time\n",
    "\n",
    "plt.plot(graph_sizes, time_results)\n",
    "plt.xlabel('Число вершин в графе')\n",
    "plt.ylabel('Время работы в секундах')\n",
    "plt.grid()"
   ]
  },
  {
   "cell_type": "markdown",
   "metadata": {
    "collapsed": true
   },
   "source": [
    "#### 2.2 Свой алгоритм"
   ]
  },
  {
   "cell_type": "code",
   "execution_count": 8,
   "metadata": {
    "collapsed": true
   },
   "outputs": [],
   "source": [
    "def graph_SIRS_simulation_spark_fast(V, E, beta, mu, eta, days = 1):\n",
    "    n_ill_history, n_rec_history = [], []\n",
    "    vertixes_status = V\n",
    "    \n",
    "    for day in range(days):\n",
    "        ill_vertix = np.where(vertixes_status == 1)[0]\n",
    "        rec_vertix = np.where(vertixes_status == 2)[0]\n",
    "        \n",
    "        clear_output(wait=True)\n",
    "        print('| Day: {}/{} | Diseased vertex: {} |'.format(day+1, days, len(ill_vertix)))\n",
    "            \n",
    "        df = E.filter(E.src.isin(ill_vertix.tolist())).groupBy('dst').count() \\\n",
    "              .groupBy(\"count\").agg(F.collect_list(\"dst\").alias('nodes')).toPandas()\n",
    "        \n",
    "        for row in df.itertuples():\n",
    "            vertixes_status[row.nodes] = np.random.binomial(\n",
    "                1,\n",
    "                1 - (1 - beta)**row.count,\n",
    "                len(row.nodes),\n",
    "            ).astype(np.uint8)\n",
    "            \n",
    "        vertixes_status[ill_vertix] = 1 + np.random.binomial(1, mu, len(ill_vertix)).astype(np.uint8)\n",
    "        vertixes_status[rec_vertix] = (2 + np.random.binomial(1, eta, len(rec_vertix)).astype(np.uint8)) % 3\n",
    "        \n",
    "        n_ill_history.append((vertixes_status == 1).sum())\n",
    "        n_rec_history.append((vertixes_status == 2).sum())\n",
    "\n",
    "    return n_ill_history, n_rec_history"
   ]
  },
  {
   "cell_type": "code",
   "execution_count": 9,
   "metadata": {
    "collapsed": true
   },
   "outputs": [],
   "source": [
    "graph_sizes = [100, 300, 500, 700, 1000, 1500, 2500, 3500, 5000]\n",
    "beta = 0.05  # Вероятность заразиться при контакте с больным\n",
    "mu   = 0.2   # Вероятность выздороветь и приобрести иммунитет\n",
    "eta  = 0.01  # Вероятность утратить иммунитет"
   ]
  },
  {
   "cell_type": "code",
   "execution_count": 10,
   "metadata": {},
   "outputs": [
    {
     "name": "stdout",
     "output_type": "stream",
     "text": [
      "| Day: 5/5 | Diseased vertex: 4170 |\n",
      "CPU times: user 27.8 s, sys: 880 ms, total: 28.7 s\n",
      "Wall time: 1min 18s\n"
     ]
    }
   ],
   "source": [
    "%%time\n",
    "\n",
    "time_results = []\n",
    "for graph_size in graph_sizes:\n",
    "    G = nx.gaussian_random_partition_graph(n=graph_size,        # Число вершин в графе\n",
    "                                           s=6,                 # Средний размер кластеров\n",
    "                                           v=4,                 # Параметр, отвечающий за дисперсию среднего размера кластера\n",
    "                                           p_in=0.05,           # Вероятность ребра в кластере\n",
    "                                           p_out=0.02,          # Вероятность ребра между кластерами\n",
    "                                           directed=False,      # Ориентированный ли граф\n",
    "                                           seed=RANDOM_SEED)\n",
    "    \n",
    "    I = 20\n",
    "    ill_arr = np.random.randint(0, len(G.nodes()), I)\n",
    "    V = np.array([1 if i in ill_arr else 0 for i in range(len(G.nodes))])\n",
    "    \n",
    "    e = sqlContext.createDataFrame([(src, dst, 1) for src, dst in list(G.edges())], [\"src\",\"dst\",\"relationship\"])\n",
    "    e.write.mode(\"overwrite\").parquet(\"/user/mob2021045/task2_2/edges\")\n",
    "    E = sqlContext.read.parquet(\"/user/mob2021045/task2_2/edges\")\n",
    "    \n",
    "    start = time()\n",
    "    ill_graph, rec_graph = graph_SIRS_simulation_spark_fast(V, E, beta, mu, eta, days = 5)\n",
    "    end = time()\n",
    "    time_results.append(end - start)"
   ]
  },
  {
   "cell_type": "code",
   "execution_count": 11,
   "metadata": {},
   "outputs": [
    {
     "name": "stdout",
     "output_type": "stream",
     "text": [
      "CPU times: user 36 ms, sys: 0 ns, total: 36 ms\n",
      "Wall time: 36.9 ms\n"
     ]
    },
    {
     "data": {
      "image/png": "[encoded data removed]",
      "text/plain": [
       "<matplotlib.figure.Figure at 0x7eff494f2e48>"
      ]
     },
     "metadata": {},
     "output_type": "display_data"
    }
   ],
   "source": [
    "%%time\n",
    "\n",
    "plt.plot(graph_sizes, time_results)\n",
    "plt.xlabel('Число вершин в графе')\n",
    "plt.ylabel('Время работы в секундах')\n",
    "plt.grid()"
   ]
  },
  {
   "cell_type": "markdown",
   "metadata": {},
   "source": [
    "---\n",
    "\n",
    "### №3: Улучшить предсказание состояния вершины, предложенное на семинаре\n",
    "\n",
    "\n",
    "1. Добавьте дополнительные признаки (от 0 до 20%):\n",
    "    * Признаки, связанные с центральностями вершин.\n",
    "    * Признаки, связанные с глобальными свойствами вершин -- например включена ли вершина в какую-либо клику, какой размер у этой клики, сколько ребер соединяет рассматриваемую вершину с самой центрально и т.д. (здесь вы можете проявить свои творческие способности.) \n",
    "    * Любые другие признаки, которые вам могут показаться полезными.\n",
    "    \n",
    "    \n",
    "2. Написать функцию по генерации данных для обучения (12%):  \n",
    "    Поскольку для обучение робастной модели (а тем более модели бустинга) требуется большое количество данных, необходимо:\n",
    "    * Написать фунцию, которая получает на вход \"средний граф\" (его вы генерируете заранее), а возвращает набор из графов, полученных из \"среднего\" разумным процессов добавления и удаления вершин.\n",
    "    * Для каждого сгенерированного графа получить несколько реализаций эпидемии.\n",
    "    \n",
    "    \n",
    "3. Обучить модель бустинга (или любая другая на Ваше усмотрение, кроме линейной) и сравнить качество, полученное Вашей моделью с качеством, полученным моделью из семинара. (12%)"
   ]
  },
  {
   "cell_type": "markdown",
   "metadata": {},
   "source": [
    "#### 3.2 Генератор данных для обучения"
   ]
  },
  {
   "cell_type": "code",
   "execution_count": 16,
   "metadata": {},
   "outputs": [],
   "source": [
    "def generate_graphs(G, n_graphs = 1):\n",
    "\n",
    "    G_full = nx.complete_graph(len(G.nodes()))\n",
    "    add_edges = np.random.permutation(list(set(G_full.edges()) - set(G.edges())))\n",
    "    num_edges_to_change = int(len(G.edges())*0.01)\n",
    "\n",
    "    Gs = []\n",
    "    for _ in range(n_graphs):\n",
    "        G_i = deepcopy(G)\n",
    "\n",
    "        edges_to_add = np.random.permutation(add_edges)[:num_edges_to_change]\n",
    "        G_i.add_edges_from(edges_to_add)\n",
    "\n",
    "        edges_to_remove = np.random.permutation(list(set(G.edges())))[:num_edges_to_change]\n",
    "        G_i.remove_edges_from(edges_to_remove)\n",
    "\n",
    "        Gs.append(G_i.to_undirected())\n",
    "\n",
    "    return Gs"
   ]
  },
  {
   "cell_type": "code",
   "execution_count": 17,
   "metadata": {},
   "outputs": [
    {
     "name": "stdout",
     "output_type": "stream",
     "text": [
      "CPU times: user 0 ns, sys: 0 ns, total: 0 ns\n",
      "Wall time: 6.05 ms\n"
     ]
    }
   ],
   "source": [
    "%%time\n",
    "\n",
    "G = nx.gaussian_random_partition_graph(n=69,                # Число вершин в графе\n",
    "                                       s=8,                 # Средний размер кластеров\n",
    "                                       v=2,                 # Параметр, отвечающий за дисперсию среднего размера кластера\n",
    "                                       p_in=0.4,            # Вероятность ребра в кластере\n",
    "                                       p_out=0.2,           # Вероятность ребра между кластерами\n",
    "                                       directed=False,      # Ориентированный ли граф\n",
    "                                       seed=RANDOM_SEED)"
   ]
  },
  {
   "cell_type": "code",
   "execution_count": 18,
   "metadata": {},
   "outputs": [
    {
     "name": "stdout",
     "output_type": "stream",
     "text": [
      "CPU times: user 68 ms, sys: 8 ms, total: 76 ms\n",
      "Wall time: 81.1 ms\n"
     ]
    }
   ],
   "source": [
    "%%time\n",
    "\n",
    "Gs = generate_graphs(G, n_graphs = 10)"
   ]
  },
  {
   "cell_type": "code",
   "execution_count": 19,
   "metadata": {
    "collapsed": true
   },
   "outputs": [],
   "source": [
    "def generate_epidemic_realizations(Gs, beta, sigma, gamma, xi, n_sample = 5, max_day = 64):\n",
    "    DATA = []\n",
    "\n",
    "    for G_i in tqdm(Gs):\n",
    "        data = []\n",
    "        for n in range(n_sample):\n",
    "            Xs = {}\n",
    "            SEIRmodel = SEIRSNetworkModel(G          = G_i.to_undirected(), \n",
    "                                          beta       = beta,\n",
    "                                          sigma      = sigma, \n",
    "                                          gamma      = gamma,  \n",
    "                                          xi         = xi, \n",
    "                                          initI      = int(len(G_i.nodes())/5),\n",
    "                                          isolation_time = 0)\n",
    "\n",
    "            for i in range(max_day):\n",
    "                Xs[i] = dict(enumerate((SEIRmodel.X.copy()).T[0]))\n",
    "                SEIRmodel.run(T=1, verbose = -1)\n",
    "                \n",
    "            data.append(Xs)    \n",
    "        DATA.extend(data)\n",
    "        \n",
    "    return DATA"
   ]
  },
  {
   "cell_type": "code",
   "execution_count": 20,
   "metadata": {
    "collapsed": true
   },
   "outputs": [],
   "source": [
    "# Параметры эпидемии:\n",
    "BETA  = 0.3\n",
    "SIGMA = 0.64\n",
    "GAMMA = 0.14\n",
    "XI    = 0.09"
   ]
  },
  {
   "cell_type": "code",
   "execution_count": 21,
   "metadata": {},
   "outputs": [
    {
     "name": "stderr",
     "output_type": "stream",
     "text": [
      "100%|██████████| 10/10 [00:25<00:00,  2.58s/it]"
     ]
    },
    {
     "name": "stdout",
     "output_type": "stream",
     "text": [
      "CPU times: user 25.8 s, sys: 60 ms, total: 25.9 s\n",
      "Wall time: 25.9 s\n"
     ]
    },
    {
     "name": "stderr",
     "output_type": "stream",
     "text": [
      "\n"
     ]
    }
   ],
   "source": [
    "%%time\n",
    "\n",
    "DATA = generate_epidemic_realizations(Gs, BETA, SIGMA, GAMMA, XI, n_sample = 10, max_day = 64)"
   ]
  },
  {
   "cell_type": "code",
   "execution_count": 22,
   "metadata": {},
   "outputs": [
    {
     "name": "stdout",
     "output_type": "stream",
     "text": [
      "CPU times: user 336 ms, sys: 0 ns, total: 336 ms\n",
      "Wall time: 339 ms\n"
     ]
    }
   ],
   "source": [
    "%%time\n",
    "\n",
    "average_data = defaultdict(dict)\n",
    "for day in range(len(DATA[0])):\n",
    "    for node in range(len(DATA[0][0])):\n",
    "        values = []\n",
    "        for i in range(len(DATA)):\n",
    "            if DATA[i][day][node] == 3:\n",
    "                values.append(1.)\n",
    "            elif DATA[i][day][node] == 2 or DATA[i][day][node] == 4:\n",
    "                values.append(0.95)\n",
    "            else:\n",
    "                values.append(0.)\n",
    "        average_data[day][node] = np.mean(values)"
   ]
  },
  {
   "cell_type": "markdown",
   "metadata": {},
   "source": [
    "#### 3.1 Дополнительные признаки для вершин и генерация датасета"
   ]
  },
  {
   "cell_type": "code",
   "execution_count": 23,
   "metadata": {
    "collapsed": true
   },
   "outputs": [],
   "source": [
    "def create_dateset(G, data, past_days = 5, future = 1):\n",
    "    \n",
    "    degree_centrality = nx.degree_centrality(G)\n",
    "    closeness_centrality = nx.closeness_centrality(G)\n",
    "    betweenness_centrality = nx.betweenness_centrality(G)\n",
    "    load_centrality = nx.load_centrality(G)\n",
    "    square_clustering = nx.square_clustering(G)\n",
    "    clustering = nx.clustering(G)\n",
    "    node_clique_number = nx.node_clique_number(G)\n",
    "    number_of_cliques = nx.number_of_cliques(G)\n",
    "    \n",
    "    Gs = []\n",
    "    for day in data:\n",
    "        g = deepcopy(G)\n",
    "        Nodes = g.nodes(data=True)\n",
    "        for ver in data[day]:\n",
    "            Nodes[ver]['mark'] = 1 if data[day][ver] >= 0.5 else 0\n",
    "        Gs.append(g)\n",
    "        \n",
    "    X = [] # np.zeros((len(G.nodes()), 2 * past_days))\n",
    "    Y = []\n",
    "    for i in range(past_days + future - 1, len(data) - 1):\n",
    "        for node, mark in Gs[i].nodes(data=True):\n",
    "            Y.append(mark['mark'])\n",
    "            x = []\n",
    "            for j in range(i - future, i - past_days - future, -1):\n",
    "                nodes = Gs[j].nodes(data=True)\n",
    "                x.append(nodes[node]['mark'])\n",
    "                all_contacts = 0\n",
    "                ill_contacts = 0\n",
    "                for neigh in Gs[j].neighbors(node):\n",
    "                    all_contacts += 1\n",
    "                    ill_contacts += nodes[neigh]['mark']\n",
    "                x.append(all_contacts)\n",
    "                x.append(ill_contacts)\n",
    "            \n",
    "            x.append(degree_centrality[node])\n",
    "            x.append(closeness_centrality[node])\n",
    "            x.append(betweenness_centrality[node])\n",
    "            x.append(load_centrality[node])\n",
    "            x.append(square_clustering[node])\n",
    "            x.append(clustering[node])\n",
    "            x.append(node_clique_number[node])\n",
    "            x.append(number_of_cliques[node])\n",
    "            \n",
    "            X.append(x)\n",
    "            \n",
    "    return X, Y"
   ]
  },
  {
   "cell_type": "code",
   "execution_count": 24,
   "metadata": {},
   "outputs": [
    {
     "name": "stdout",
     "output_type": "stream",
     "text": [
      "CPU times: user 620 ms, sys: 4 ms, total: 624 ms\n",
      "Wall time: 622 ms\n"
     ]
    }
   ],
   "source": [
    "%%time\n",
    "\n",
    "X1, Y1 = create_dateset(G.to_undirected(), average_data, past_days = 5, future = 1)"
   ]
  },
  {
   "cell_type": "markdown",
   "metadata": {},
   "source": [
    "#### 3.3 Обучение модели \n",
    "Метрики на валидации лучше (граф сгенерирован с аналогичными параметрами), чем на семинаре.\n",
    "\n",
    "С семинара:\n",
    "- ROC-AUC: 0.9203619284431551\n",
    "- Precision: 0.8734693877551021\n",
    "- Recall: 0.84251968503937\n",
    "- RMSE: 0.04228293587546049\n",
    "\n",
    "Мои:\n",
    "- ROC-AUC: 0.9451338101743952\n",
    "- Precision: 0.8843683083511777\n",
    "- Recall: 0.8978260869565218\n",
    "- RMSE: 0.08308264064471049"
   ]
  },
  {
   "cell_type": "code",
   "execution_count": 25,
   "metadata": {},
   "outputs": [
    {
     "name": "stdout",
     "output_type": "stream",
     "text": [
      "Learning rate set to 0.022866\n",
      "[1, 0, 0, 0, 1, 1, 1, 1, 0, 1]\n",
      "[0.5869093  0.03515413 0.04430042 0.08038841 0.95448887 0.15849318\n",
      " 0.95161129 0.77110971 0.12939173 0.13595601]\n",
      "==============================\n",
      "ROC-AUC: 0.9451338101743952\n",
      "Precision: 0.8843683083511777\n",
      "Recall: 0.8978260869565218\n",
      "RMSE: 0.08308264064471049\n",
      "CPU times: user 1min, sys: 11.2 s, total: 1min 11s\n",
      "Wall time: 7.96 s\n"
     ]
    }
   ],
   "source": [
    "%%time\n",
    "\n",
    "model = CatBoostClassifier(verbose=False)\n",
    "\n",
    "X_train, X_test, y_train, y_test = train_test_split(X1, Y1, stratify=Y1, random_state = abs(RANDOM_SEED))\n",
    "model.fit(X_train, y_train)\n",
    "\n",
    "print(y_test[:10])\n",
    "print(model.predict_proba(X_test)[:10, 1])\n",
    "print('==='*10)\n",
    "print('ROC-AUC:', roc_auc_score(y_test, model.predict_proba(X_test)[:,1]))\n",
    "print('Precision:', precision_score(y_test, model.predict(X_test)))\n",
    "print('Recall:', recall_score(y_test, model.predict(X_test)))\n",
    "print('RMSE:', mean_squared_error(y_test, model.predict_proba(X_test)[:,1]))"
   ]
  },
  {
   "cell_type": "markdown",
   "metadata": {},
   "source": [
    "---\n",
    "\n",
    "### №4: Обобщите модель из первого пункта на случай 4 классов (модель SEIRS) (15%)"
   ]
  },
  {
   "cell_type": "code",
   "execution_count": 4,
   "metadata": {},
   "outputs": [
    {
     "name": "stdout",
     "output_type": "stream",
     "text": [
      "CPU times: user 100 ms, sys: 0 ns, total: 100 ms\n",
      "Wall time: 102 ms\n"
     ]
    }
   ],
   "source": [
    "%%time\n",
    "\n",
    "N = 1000\n",
    "G = nx.gaussian_random_partition_graph(n=N,                 # Число вершин в графе\n",
    "                                       s=6,                 # Средний размер кластеров\n",
    "                                       v=4,                 # Параметр, отвечающий за дисперсию среднего размера кластера\n",
    "                                       p_in=0.05,           # Вероятность ребра в кластере\n",
    "                                       p_out=0.02,          # Вероятность ребра между кластерами\n",
    "                                       directed=False,      # Ориентированный ли граф\n",
    "                                       seed=RANDOM_SEED)"
   ]
  },
  {
   "cell_type": "code",
   "execution_count": 5,
   "metadata": {
    "collapsed": true
   },
   "outputs": [],
   "source": [
    "I = 20\n",
    "ill_arr = np.random.randint(0, len(G.nodes()), I)"
   ]
  },
  {
   "cell_type": "code",
   "execution_count": 6,
   "metadata": {},
   "outputs": [
    {
     "name": "stdout",
     "output_type": "stream",
     "text": [
      "CPU times: user 568 ms, sys: 16 ms, total: 584 ms\n",
      "Wall time: 6.02 s\n"
     ]
    }
   ],
   "source": [
    "%%time\n",
    "\n",
    "v = sqlContext.createDataFrame([(i, 2 if i in ill_arr else 0) for i in range(len(G.nodes()))], ['id', 'status'])\n",
    "e = sqlContext.createDataFrame([(src, dst, 1) for src, dst in list(G.edges())], [\"src\",\"dst\",\"relationship\"])\n",
    "g = GraphFrame(v,e)\n",
    "\n",
    "g.vertices.write.mode(\"overwrite\").parquet(\"/user/mob2021045/task4/vertices\")\n",
    "g.edges.write.mode(\"overwrite\").parquet(\"/user/mob2021045/task4/edges\")\n",
    "\n",
    "V = sqlContext.read.parquet(\"/user/mob2021045/task4/vertices\")\n",
    "E = sqlContext.read.parquet(\"/user/mob2021045/task4/edges\")\n",
    "G = GraphFrame(V, E)"
   ]
  },
  {
   "cell_type": "code",
   "execution_count": 7,
   "metadata": {
    "collapsed": true
   },
   "outputs": [],
   "source": [
    "def graph_SEIRS_simulation_spark(G, V, E, beta, sigma, gamma, omega, days = 1):\n",
    "    n_ill_history, n_rec_history, n_exp_history = [], [], []\n",
    "    neighbors = G.find(\"(a)-[]->(b)\")\n",
    "    \n",
    "    for day in range(days):\n",
    "        vertixes_status = V.toPandas().sort_values('id').status.values.astype(np.uint8)\n",
    "        exp_vertix = np.where(vertixes_status == 1)[0]\n",
    "        ill_vertix = np.where(vertixes_status == 2)[0]\n",
    "        rec_vertix = np.where(vertixes_status == 3)[0]\n",
    "        \n",
    "        for j, ill_ver in enumerate(ill_vertix):\n",
    "            clear_output(wait=True)\n",
    "            print('| Day: {}/{} | Diseased vertex: {}/{} |'.format(day+1, days, j+1, len(ill_vertix)))\n",
    "            \n",
    "            df = neighbors.filter('a.id == ' + str(ill_ver)).select('b').toPandas()\n",
    "            neigh = [row.b.id for row in df.itertuples()]\n",
    "            \n",
    "            vertixes_status[neigh] = np.random.binomial(1, beta, len(neigh)).astype(np.uint8)\n",
    "        \n",
    "        vertixes_status[exp_vertix] = 1 + np.random.binomial(1, sigma, len(exp_vertix)).astype(np.uint8)\n",
    "        vertixes_status[ill_vertix] = 2 + np.random.binomial(1, gamma, len(ill_vertix)).astype(np.uint8)\n",
    "        vertixes_status[rec_vertix] = (3 + np.random.binomial(1, omega, len(rec_vertix)).astype(np.uint8)) % 4\n",
    "        \n",
    "        n_exp_history.append((vertixes_status == 1).sum())\n",
    "        n_ill_history.append((vertixes_status == 2).sum())\n",
    "        n_rec_history.append((vertixes_status == 3).sum())\n",
    "        \n",
    "        new_v = sqlContext.createDataFrame(\n",
    "            [(i, int(status)) for i, status in enumerate(vertixes_status)], \n",
    "            ['id', 'status']\n",
    "        )\n",
    "        new_v.write.mode(\"overwrite\").parquet(\"/user/mob2021045/task4/vertices\")\n",
    "        \n",
    "        V = sqlContext.read.parquet(\"/user/mob2021045/task4/vertices\").cache()\n",
    "        G = GraphFrame(V, E)\n",
    "\n",
    "    return n_exp_history, n_ill_history, n_rec_history"
   ]
  },
  {
   "cell_type": "code",
   "execution_count": 8,
   "metadata": {
    "collapsed": true
   },
   "outputs": [],
   "source": [
    "# Зададим параметры эпидемии\n",
    "\n",
    "beta  = 0.1   # Вероятность заразиться в скрытой форме при контакте с больным\n",
    "sigma = 0.5   # Вероятность перехода скрытой формы в заражение\n",
    "gamma = 0.2   # Вероятность выздороветь и приобрести иммунитет\n",
    "omega = 0.01  # Вероятность утратить иммунитет"
   ]
  },
  {
   "cell_type": "code",
   "execution_count": 9,
   "metadata": {
    "scrolled": false
   },
   "outputs": [
    {
     "name": "stdout",
     "output_type": "stream",
     "text": [
      "| Day: 8/8 | Diseased vertex: 163/163 |\n",
      "CPU times: user 3.78 s, sys: 664 ms, total: 4.44 s\n",
      "Wall time: 1min 40s\n"
     ]
    }
   ],
   "source": [
    "%%time\n",
    "\n",
    "exp_graph, ill_graph, rec_graph = graph_SEIRS_simulation_spark(G, V, E, beta, sigma, gamma, omega, days = 8)\n",
    "sus_graph = np.array([N]*len(ill_graph)) - ill_graph - rec_graph - exp_graph"
   ]
  },
  {
   "cell_type": "code",
   "execution_count": 10,
   "metadata": {},
   "outputs": [
    {
     "name": "stdout",
     "output_type": "stream",
     "text": [
      "CPU times: user 32 ms, sys: 4 ms, total: 36 ms\n",
      "Wall time: 38.3 ms\n"
     ]
    },
    {
     "data": {
      "image/png": "[encoded data removed]",
      "text/plain": [
       "<matplotlib.figure.Figure at 0x7f5d8a0ddac8>"
      ]
     },
     "metadata": {},
     "output_type": "display_data"
    }
   ],
   "source": [
    "%%time\n",
    "\n",
    "plt.plot([i+1 for i, _ in enumerate(ill_graph)], ill_graph, label='Больные')\n",
    "plt.plot([i+1 for i, _ in enumerate(exp_graph)], exp_graph, label='Больные в скрытой форме')\n",
    "plt.plot([i+1 for i, _ in enumerate(rec_graph)], rec_graph, label='Здоровые с иммунитетом')\n",
    "plt.plot([i+1 for i, _ in enumerate(sus_graph)], sus_graph, label='Здоровые без иммунитета')\n",
    "plt.xlabel('День')\n",
    "plt.ylabel('Количество')\n",
    "plt.legend()\n",
    "plt.grid()"
   ]
  },
  {
   "cell_type": "markdown",
   "metadata": {},
   "source": [
    "## ---\n",
    "\n",
    "### №5*: Обобщить задачу из предыдущего пункта на случай не стационарного графа (15%)\n"
   ]
  },
  {
   "cell_type": "code",
   "execution_count": 4,
   "metadata": {},
   "outputs": [
    {
     "name": "stdout",
     "output_type": "stream",
     "text": [
      "CPU times: user 92 ms, sys: 4 ms, total: 96 ms\n",
      "Wall time: 97.2 ms\n"
     ]
    }
   ],
   "source": [
    "%%time\n",
    "\n",
    "N = 1000\n",
    "G = nx.gaussian_random_partition_graph(n=N,                 # Число вершин в графе\n",
    "                                       s=6,                 # Средний размер кластеров\n",
    "                                       v=4,                 # Параметр, отвечающий за дисперсию среднего размера кластера\n",
    "                                       p_in=0.05,           # Вероятность ребра в кластере\n",
    "                                       p_out=0.02,          # Вероятность ребра между кластерами\n",
    "                                       directed=False,      # Ориентированный ли граф\n",
    "                                       seed=RANDOM_SEED)"
   ]
  },
  {
   "cell_type": "code",
   "execution_count": 5,
   "metadata": {
    "collapsed": true
   },
   "outputs": [],
   "source": [
    "I = 20\n",
    "ill_arr = np.random.randint(0, len(G.nodes()), I)"
   ]
  },
  {
   "cell_type": "code",
   "execution_count": 6,
   "metadata": {},
   "outputs": [
    {
     "name": "stdout",
     "output_type": "stream",
     "text": [
      "CPU times: user 556 ms, sys: 0 ns, total: 556 ms\n",
      "Wall time: 5.47 s\n"
     ]
    }
   ],
   "source": [
    "%%time\n",
    "\n",
    "v = sqlContext.createDataFrame([(i, 2 if i in ill_arr else 0) for i in range(len(G.nodes()))], ['id', 'status'])\n",
    "e = sqlContext.createDataFrame([(src, dst, 1) for src, dst in list(G.edges())], [\"src\",\"dst\",\"relationship\"])\n",
    "g = GraphFrame(v,e)\n",
    "\n",
    "g.vertices.write.mode(\"overwrite\").parquet(\"/user/mob2021045/task5/vertices\")\n",
    "g.edges.write.mode(\"overwrite\").parquet(\"/user/mob2021045/task5/edges\")\n",
    "\n",
    "V = sqlContext.read.parquet(\"/user/mob2021045/task5/vertices\")\n",
    "E = sqlContext.read.parquet(\"/user/mob2021045/task5/edges\")\n",
    "G = GraphFrame(V, E)"
   ]
  },
  {
   "cell_type": "code",
   "execution_count": 7,
   "metadata": {
    "collapsed": true
   },
   "outputs": [],
   "source": [
    "def graph_SEIRS_simulation_spark_nonstationary(G, V, E, beta, sigma, gamma, omega, dropout_prob, days = 1):\n",
    "    n_ill_history, n_rec_history, n_exp_history = [], [], []\n",
    "    \n",
    "    for day in range(days):\n",
    "        vertixes_status = V.toPandas().sort_values('id').status.values.astype(np.uint8)\n",
    "        exp_vertix = np.where(vertixes_status == 1)[0]\n",
    "        ill_vertix = np.where(vertixes_status == 2)[0]\n",
    "        rec_vertix = np.where(vertixes_status == 3)[0]\n",
    "        \n",
    "        for j, ill_ver in enumerate(ill_vertix):\n",
    "            clear_output(wait=True)\n",
    "            print('| Day: {}/{} | Diseased vertex: {}/{} |'.format(day+1, days, j+1, len(ill_vertix)))\n",
    "            \n",
    "            df = E.cache().filter('relationship == 1 AND src == ' + str(ill_ver)).select('dst').toPandas()\n",
    "            neigh = list(df['dst'])\n",
    "            \n",
    "            vertixes_status[neigh] = np.random.binomial(1, beta, len(neigh)).astype(np.uint8)\n",
    "        \n",
    "        vertixes_status[exp_vertix] = 1 + np.random.binomial(1, sigma, len(exp_vertix)).astype(np.uint8)\n",
    "        vertixes_status[ill_vertix] = 2 + np.random.binomial(1, gamma, len(ill_vertix)).astype(np.uint8)\n",
    "        vertixes_status[rec_vertix] = (3 + np.random.binomial(1, omega, len(rec_vertix)).astype(np.uint8)) % 4\n",
    "        \n",
    "        n_exp_history.append((vertixes_status == 1).sum())\n",
    "        n_ill_history.append((vertixes_status == 2).sum())\n",
    "        n_rec_history.append((vertixes_status == 3).sum())\n",
    "        \n",
    "        new_v = sqlContext.createDataFrame(\n",
    "            [(i, int(status)) for i, status in enumerate(vertixes_status)], \n",
    "            ['id', 'status']\n",
    "        )\n",
    "        new_v.write.mode(\"overwrite\").parquet(\"/user/mob2021045/task5/vertices\")\n",
    "        \n",
    "        new_e = E.select('src', 'dst').withColumn(\n",
    "            'relationship',\n",
    "            F.when(F.rand() < dropout_prob, 0).otherwise(1),\n",
    "        )\n",
    "        new_e.repartition(10).write.mode(\"overwrite\").parquet(\"/user/mob2021045/task5/edges\")\n",
    "        \n",
    "        \n",
    "        V = sqlContext.read.parquet(\"/user/mob2021045/task5/vertices\").cache()\n",
    "        E = sqlContext.read.parquet(\"/user/mob2021045/task5/edges\")\n",
    "        G = GraphFrame(V, E)\n",
    "\n",
    "    return n_exp_history, n_ill_history, n_rec_history"
   ]
  },
  {
   "cell_type": "code",
   "execution_count": 8,
   "metadata": {
    "collapsed": true
   },
   "outputs": [],
   "source": [
    "# Зададим параметры эпидемии\n",
    "\n",
    "beta  = 0.1   # Вероятность заразиться в скрытой форме при контакте с больным\n",
    "sigma = 0.5   # Вероятность перехода скрытой формы в заражение\n",
    "gamma = 0.2   # Вероятность выздороветь и приобрести иммунитет\n",
    "omega = 0.01  # Вероятность утратить иммунитет\n",
    "\n",
    "dropout_prob = 0.05  # Вероятность выкинуть ребро графа"
   ]
  },
  {
   "cell_type": "code",
   "execution_count": 9,
   "metadata": {
    "scrolled": false
   },
   "outputs": [
    {
     "name": "stdout",
     "output_type": "stream",
     "text": [
      "| Day: 8/8 | Diseased vertex: 128/128 |\n",
      "CPU times: user 2.48 s, sys: 500 ms, total: 2.98 s\n",
      "Wall time: 41.3 s\n"
     ]
    }
   ],
   "source": [
    "%%time\n",
    "\n",
    "exp_graph, ill_graph, rec_graph = graph_SEIRS_simulation_spark_nonstationary(\n",
    "    G, V, E, beta, sigma, gamma, omega, dropout_prob, days = 8\n",
    ")\n",
    "sus_graph = np.array([N]*len(ill_graph)) - ill_graph - rec_graph - exp_graph"
   ]
  },
  {
   "cell_type": "code",
   "execution_count": 10,
   "metadata": {},
   "outputs": [
    {
     "name": "stdout",
     "output_type": "stream",
     "text": [
      "CPU times: user 40 ms, sys: 0 ns, total: 40 ms\n",
      "Wall time: 36 ms\n"
     ]
    },
    {
     "data": {
      "image/png": "[encoded data removed]",
      "text/plain": [
       "<matplotlib.figure.Figure at 0x7f3591b837f0>"
      ]
     },
     "metadata": {},
     "output_type": "display_data"
    }
   ],
   "source": [
    "%%time\n",
    "\n",
    "plt.plot([i+1 for i, _ in enumerate(ill_graph)], ill_graph, label='Больные')\n",
    "plt.plot([i+1 for i, _ in enumerate(exp_graph)], exp_graph, label='Больные в скрытой форме')\n",
    "plt.plot([i+1 for i, _ in enumerate(rec_graph)], rec_graph, label='Здоровые с иммунитетом')\n",
    "plt.plot([i+1 for i, _ in enumerate(sus_graph)], sus_graph, label='Здоровые без иммунитета')\n",
    "plt.xlabel('День')\n",
    "plt.ylabel('Количество')\n",
    "plt.legend()\n",
    "plt.grid()"
   ]
  },
  {
   "cell_type": "markdown",
   "metadata": {},
   "source": [
    "---"
   ]
  }
 ],
 "metadata": {
  "kernelspec": {
   "display_name": "Python 3",
   "language": "python",
   "name": "python3"
  },
  "language_info": {
   "codemirror_mode": {
    "name": "ipython",
    "version": 3
   },
   "file_extension": ".py",
   "mimetype": "text/x-python",
   "name": "python",
   "nbconvert_exporter": "python",
   "pygments_lexer": "ipython3",
   "version": "3.4.3"
  }
 },
 "nbformat": 4,
 "nbformat_minor": 2
}
